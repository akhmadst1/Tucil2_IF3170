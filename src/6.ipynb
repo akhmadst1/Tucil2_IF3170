{
 "cells": [
  {
   "cell_type": "code",
   "execution_count": 4,
   "metadata": {},
   "outputs": [
    {
     "name": "stdout",
     "output_type": "stream",
     "text": [
      "Korelasi setiap kolom ke kolom target:\n",
      "battery_power    0.184801\n",
      "blue             0.041947\n",
      "clock_speed      0.014031\n",
      "dual_sim        -0.010756\n",
      "fc              -0.003842\n",
      "four_g           0.000551\n",
      "int_memory       0.026176\n",
      "m_dep            0.001205\n",
      "mobile_wt       -0.074769\n",
      "n_cores         -0.000582\n",
      "pc              -0.005214\n",
      "px_height        0.158833\n",
      "px_width         0.178713\n",
      "ram              0.918319\n",
      "sc_h             0.012149\n",
      "sc_w             0.019912\n",
      "talk_time        0.011113\n",
      "three_g          0.027098\n",
      "touch_screen    -0.029842\n",
      "wifi             0.034329\n",
      "price_range      1.000000\n",
      "Name: price_range, dtype: float64\n"
     ]
    }
   ],
   "source": [
    "# import library yang dibutuhkan\n",
    "import pandas as pd\n",
    "from matplotlib import pyplot as plt\n",
    "import seaborn as sns\n",
    "\n",
    "# read csv\n",
    "df = pd.read_csv(\"../data/data_train.csv\")\n",
    "\n",
    "# target kolom price_range\n",
    "target_column = 'price_range'\n",
    "correlation_matrix = df.corr()\n",
    "correlation_with_target = correlation_matrix[target_column]\n",
    "\n",
    "# display\n",
    "print(\"Korelasi setiap kolom ke kolom target:\")\n",
    "print(correlation_with_target)"
   ]
  }
 ],
 "metadata": {
  "kernelspec": {
   "display_name": "Python 3",
   "language": "python",
   "name": "python3"
  },
  "language_info": {
   "codemirror_mode": {
    "name": "ipython",
    "version": 3
   },
   "file_extension": ".py",
   "mimetype": "text/x-python",
   "name": "python",
   "nbconvert_exporter": "python",
   "pygments_lexer": "ipython3",
   "version": "3.10.11"
  }
 },
 "nbformat": 4,
 "nbformat_minor": 2
}
